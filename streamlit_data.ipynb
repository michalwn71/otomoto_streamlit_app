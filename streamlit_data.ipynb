{
 "cells": [
  {
   "cell_type": "code",
   "execution_count": 60,
   "metadata": {},
   "outputs": [],
   "source": [
    "import pandas as pd\n",
    "import pickle\n",
    "\n",
    "otomoto_data = pd.read_pickle('data\\otomoto_data.pickle')"
   ]
  },
  {
   "cell_type": "code",
   "execution_count": 89,
   "metadata": {},
   "outputs": [],
   "source": [
    "otomoto_data.iloc[1].to_frame().T.to_pickle('data\\otomoto_data_one_col.pickle')"
   ]
  },
  {
   "cell_type": "code",
   "execution_count": 61,
   "metadata": {},
   "outputs": [],
   "source": [
    "values_dict = {}"
   ]
  },
  {
   "cell_type": "code",
   "execution_count": 63,
   "metadata": {},
   "outputs": [],
   "source": [
    "col_list = list(otomoto_data.columns)"
   ]
  },
  {
   "cell_type": "code",
   "execution_count": 66,
   "metadata": {},
   "outputs": [],
   "source": [
    "done_cols = []"
   ]
  },
  {
   "cell_type": "code",
   "execution_count": 67,
   "metadata": {},
   "outputs": [
    {
     "name": "stdout",
     "output_type": "stream",
     "text": [
      "0\n",
      "1388\n"
     ]
    }
   ],
   "source": [
    "print(len(done_cols))\n",
    "print(len(col_list))"
   ]
  },
  {
   "cell_type": "markdown",
   "metadata": {},
   "source": [
    "marka"
   ]
  },
  {
   "cell_type": "code",
   "execution_count": 68,
   "metadata": {},
   "outputs": [],
   "source": [
    "marka_list = []\n",
    "for i in col_list:\n",
    "    if 'Marka' in i:\n",
    "        done_cols.append(i)\n",
    "        marka_list.append(i.replace('Marka pojazdu_',''))\n",
    "\n",
    "marka_list.sort()\n",
    "col_list = [x for x in col_list if x not in done_cols]"
   ]
  },
  {
   "cell_type": "code",
   "execution_count": 69,
   "metadata": {},
   "outputs": [],
   "source": [
    "values_dict['Marki'] = marka_list"
   ]
  },
  {
   "cell_type": "code",
   "execution_count": 70,
   "metadata": {},
   "outputs": [
    {
     "name": "stdout",
     "output_type": "stream",
     "text": [
      "80\n",
      "1308\n"
     ]
    }
   ],
   "source": [
    "print(len(done_cols))\n",
    "print(len(col_list))"
   ]
  },
  {
   "cell_type": "markdown",
   "metadata": {},
   "source": [
    "Kolor"
   ]
  },
  {
   "cell_type": "code",
   "execution_count": 71,
   "metadata": {},
   "outputs": [
    {
     "name": "stdout",
     "output_type": "stream",
     "text": [
      "14\n",
      "1294\n"
     ]
    }
   ],
   "source": [
    "kolor_list = []\n",
    "done_cols=[]\n",
    "\n",
    "for i in col_list:\n",
    "    if 'Kolor' in i:\n",
    "        done_cols.append(i)\n",
    "        kolor_list.append(i.replace('Kolor_',''))\n",
    "\n",
    "kolor_list.sort()\n",
    "col_list = [x for x in col_list if x not in done_cols]\n",
    "print(len(done_cols))\n",
    "print(len(col_list))\n",
    "values_dict['Kolor'] = kolor_list"
   ]
  },
  {
   "cell_type": "markdown",
   "metadata": {},
   "source": [
    "Model"
   ]
  },
  {
   "cell_type": "code",
   "execution_count": 72,
   "metadata": {},
   "outputs": [
    {
     "name": "stdout",
     "output_type": "stream",
     "text": [
      "1078\n",
      "216\n"
     ]
    }
   ],
   "source": [
    "model_list = []\n",
    "done_cols=[]\n",
    "\n",
    "for i in col_list:\n",
    "    if 'Model' in i:\n",
    "        done_cols.append(i)\n",
    "        model_list.append(i.replace('Model pojazdu_',''))\n",
    "\n",
    "model_list.sort()\n",
    "col_list = [x for x in col_list if x not in done_cols]\n",
    "print(len(done_cols))\n",
    "print(len(col_list))\n",
    "values_dict['Model'] = model_list"
   ]
  },
  {
   "cell_type": "markdown",
   "metadata": {},
   "source": [
    "Oferta od"
   ]
  },
  {
   "cell_type": "code",
   "execution_count": 73,
   "metadata": {},
   "outputs": [
    {
     "name": "stdout",
     "output_type": "stream",
     "text": [
      "2\n",
      "214\n"
     ]
    }
   ],
   "source": [
    "oferta_list = []\n",
    "done_cols=[]\n",
    "\n",
    "for i in col_list:\n",
    "    if 'Oferta' in i:\n",
    "        done_cols.append(i)\n",
    "        oferta_list.append(i.replace('Oferta od_',''))\n",
    "\n",
    "oferta_list.sort()\n",
    "col_list = [x for x in col_list if x not in done_cols]\n",
    "print(len(done_cols))\n",
    "print(len(col_list))\n",
    "values_dict['Oferta od'] = oferta_list"
   ]
  },
  {
   "cell_type": "markdown",
   "metadata": {},
   "source": [
    "Skrzynia biegów"
   ]
  },
  {
   "cell_type": "code",
   "execution_count": 74,
   "metadata": {},
   "outputs": [
    {
     "name": "stdout",
     "output_type": "stream",
     "text": [
      "2\n",
      "212\n"
     ]
    }
   ],
   "source": [
    "skrzynia_list = []\n",
    "done_cols=[]\n",
    "\n",
    "for i in col_list:\n",
    "    if 'Skrzynia' in i:\n",
    "        done_cols.append(i)\n",
    "        skrzynia_list.append(i.replace('Skrzynia biegów_',''))\n",
    "\n",
    "skrzynia_list.sort()\n",
    "col_list = [x for x in col_list if x not in done_cols]\n",
    "print(len(done_cols))\n",
    "print(len(col_list))\n",
    "values_dict['Skrzynia'] = skrzynia_list"
   ]
  },
  {
   "cell_type": "markdown",
   "metadata": {},
   "source": [
    "Stan"
   ]
  },
  {
   "cell_type": "code",
   "execution_count": 75,
   "metadata": {},
   "outputs": [
    {
     "name": "stdout",
     "output_type": "stream",
     "text": [
      "2\n",
      "210\n"
     ]
    }
   ],
   "source": [
    "stan_list = []\n",
    "done_cols=[]\n",
    "\n",
    "for i in col_list:\n",
    "    if 'Stan' in i:\n",
    "        done_cols.append(i)\n",
    "        stan_list.append(i.replace('Stan_',''))\n",
    "\n",
    "stan_list.sort()\n",
    "col_list = [x for x in col_list if x not in done_cols]\n",
    "print(len(done_cols))\n",
    "print(len(col_list))\n",
    "values_dict['Stan'] = stan_list"
   ]
  },
  {
   "cell_type": "markdown",
   "metadata": {},
   "source": [
    "Nadwozie"
   ]
  },
  {
   "cell_type": "code",
   "execution_count": 76,
   "metadata": {},
   "outputs": [
    {
     "name": "stdout",
     "output_type": "stream",
     "text": [
      "9\n",
      "201\n"
     ]
    }
   ],
   "source": [
    "nadwozie_list = []\n",
    "done_cols=[]\n",
    "\n",
    "for i in col_list:\n",
    "    if 'Typ nadwozia' in i:\n",
    "        done_cols.append(i)\n",
    "        nadwozie_list.append(i.replace('Typ nadwozia_',''))\n",
    "\n",
    "nadwozie_list.sort()\n",
    "col_list = [x for x in col_list if x not in done_cols]\n",
    "print(len(done_cols))\n",
    "print(len(col_list))\n",
    "values_dict['Typ nadwozia'] = nadwozie_list"
   ]
  },
  {
   "cell_type": "markdown",
   "metadata": {},
   "source": [
    "Napęd"
   ]
  },
  {
   "cell_type": "code",
   "execution_count": 77,
   "metadata": {},
   "outputs": [
    {
     "name": "stdout",
     "output_type": "stream",
     "text": [
      "5\n",
      "196\n"
     ]
    }
   ],
   "source": [
    "naped_list = []\n",
    "done_cols=[]\n",
    "\n",
    "for i in col_list:\n",
    "    if 'Napęd' in i:\n",
    "        done_cols.append(i)\n",
    "        naped_list.append(i.replace('Napęd_',''))\n",
    "\n",
    "naped_list.sort()\n",
    "col_list = [x for x in col_list if x not in done_cols]\n",
    "print(len(done_cols))\n",
    "print(len(col_list))\n",
    "values_dict['Napęd'] = naped_list"
   ]
  },
  {
   "cell_type": "markdown",
   "metadata": {},
   "source": [
    "Paliwo"
   ]
  },
  {
   "cell_type": "code",
   "execution_count": 78,
   "metadata": {},
   "outputs": [
    {
     "name": "stdout",
     "output_type": "stream",
     "text": [
      "7\n",
      "189\n"
     ]
    }
   ],
   "source": [
    "paliwo_list = []\n",
    "done_cols=[]\n",
    "\n",
    "for i in col_list:\n",
    "    if 'Rodzaj paliwa' in i:\n",
    "        done_cols.append(i)\n",
    "        paliwo_list.append(i.replace('Rodzaj paliwa_',''))\n",
    "\n",
    "paliwo_list.sort()\n",
    "col_list = [x for x in col_list if x not in done_cols]\n",
    "print(len(done_cols))\n",
    "print(len(col_list))\n",
    "values_dict['Paliwo'] = paliwo_list"
   ]
  },
  {
   "cell_type": "markdown",
   "metadata": {},
   "source": [
    "Drop numeric"
   ]
  },
  {
   "cell_type": "code",
   "execution_count": 79,
   "metadata": {},
   "outputs": [
    {
     "name": "stdout",
     "output_type": "stream",
     "text": [
      "7\n",
      "182\n"
     ]
    }
   ],
   "source": [
    "done_cols = ['Rok produkcji', 'Przebieg', 'Pojemność skokowa', 'Moc', \n",
    "'Liczba drzwi', 'Liczba miejsc', 'price']\n",
    "col_list = [x for x in col_list if x not in done_cols]\n",
    "print(len(done_cols))\n",
    "print(len(col_list))"
   ]
  },
  {
   "cell_type": "markdown",
   "metadata": {},
   "source": [
    "Wyposażenie"
   ]
  },
  {
   "cell_type": "code",
   "execution_count": 81,
   "metadata": {},
   "outputs": [],
   "source": [
    "values_dict['Wyposazenie'] = col_list"
   ]
  },
  {
   "cell_type": "code",
   "execution_count": 83,
   "metadata": {},
   "outputs": [],
   "source": [
    "with open('col_values_dict.pickle', 'wb') as f:\n",
    "        pickle.dump(values_dict, f, pickle.HIGHEST_PROTOCOL)"
   ]
  }
 ],
 "metadata": {
  "kernelspec": {
   "display_name": "Python 3.9.9 64-bit",
   "language": "python",
   "name": "python3"
  },
  "language_info": {
   "codemirror_mode": {
    "name": "ipython",
    "version": 3
   },
   "file_extension": ".py",
   "mimetype": "text/x-python",
   "name": "python",
   "nbconvert_exporter": "python",
   "pygments_lexer": "ipython3",
   "version": "3.9.9"
  },
  "orig_nbformat": 4,
  "vscode": {
   "interpreter": {
    "hash": "a47e1e2c49c050a34b8a1fd5e73ef0ffb5353ba12db54c1637a8441d5d8b2e0f"
   }
  }
 },
 "nbformat": 4,
 "nbformat_minor": 2
}
